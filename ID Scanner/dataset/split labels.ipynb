{
 "cells": [
  {
   "cell_type": "code",
   "execution_count": 6,
   "metadata": {},
   "outputs": [],
   "source": [
    "import numpy as np\n",
    "import pandas as pd\n",
    "np.random.seed(1)"
   ]
  },
  {
   "cell_type": "code",
   "execution_count": 7,
   "metadata": {},
   "outputs": [],
   "source": [
    "full_labels = pd.read_csv('data/license_labels.csv')"
   ]
  },
  {
   "cell_type": "code",
   "execution_count": 8,
   "metadata": {},
   "outputs": [
    {
     "data": {
      "text/html": [
       "<div>\n",
       "<style scoped>\n",
       "    .dataframe tbody tr th:only-of-type {\n",
       "        vertical-align: middle;\n",
       "    }\n",
       "\n",
       "    .dataframe tbody tr th {\n",
       "        vertical-align: top;\n",
       "    }\n",
       "\n",
       "    .dataframe thead th {\n",
       "        text-align: right;\n",
       "    }\n",
       "</style>\n",
       "<table border=\"1\" class=\"dataframe\">\n",
       "  <thead>\n",
       "    <tr style=\"text-align: right;\">\n",
       "      <th></th>\n",
       "      <th>filename</th>\n",
       "      <th>width</th>\n",
       "      <th>height</th>\n",
       "      <th>class</th>\n",
       "      <th>xmin</th>\n",
       "      <th>ymin</th>\n",
       "      <th>xmax</th>\n",
       "      <th>ymax</th>\n",
       "    </tr>\n",
       "  </thead>\n",
       "  <tbody>\n",
       "    <tr>\n",
       "      <th>0</th>\n",
       "      <td>license0.jpg</td>\n",
       "      <td>3024</td>\n",
       "      <td>4032</td>\n",
       "      <td>license</td>\n",
       "      <td>705</td>\n",
       "      <td>603</td>\n",
       "      <td>2474</td>\n",
       "      <td>3412</td>\n",
       "    </tr>\n",
       "    <tr>\n",
       "      <th>1</th>\n",
       "      <td>license0_scaled0.jpg</td>\n",
       "      <td>3024</td>\n",
       "      <td>4032</td>\n",
       "      <td>license</td>\n",
       "      <td>705</td>\n",
       "      <td>698</td>\n",
       "      <td>2470</td>\n",
       "      <td>3307</td>\n",
       "    </tr>\n",
       "    <tr>\n",
       "      <th>2</th>\n",
       "      <td>license0_scaled1.jpg</td>\n",
       "      <td>3024</td>\n",
       "      <td>4032</td>\n",
       "      <td>license</td>\n",
       "      <td>957</td>\n",
       "      <td>1281</td>\n",
       "      <td>2187</td>\n",
       "      <td>2755</td>\n",
       "    </tr>\n",
       "    <tr>\n",
       "      <th>3</th>\n",
       "      <td>license0_scaled2.jpg</td>\n",
       "      <td>3024</td>\n",
       "      <td>4032</td>\n",
       "      <td>license</td>\n",
       "      <td>813</td>\n",
       "      <td>459</td>\n",
       "      <td>2905</td>\n",
       "      <td>3564</td>\n",
       "    </tr>\n",
       "    <tr>\n",
       "      <th>4</th>\n",
       "      <td>license1.jpg</td>\n",
       "      <td>3024</td>\n",
       "      <td>4032</td>\n",
       "      <td>license</td>\n",
       "      <td>1022</td>\n",
       "      <td>1246</td>\n",
       "      <td>1978</td>\n",
       "      <td>2764</td>\n",
       "    </tr>\n",
       "  </tbody>\n",
       "</table>\n",
       "</div>"
      ],
      "text/plain": [
       "               filename  width  height    class  xmin  ymin  xmax  ymax\n",
       "0          license0.jpg   3024    4032  license   705   603  2474  3412\n",
       "1  license0_scaled0.jpg   3024    4032  license   705   698  2470  3307\n",
       "2  license0_scaled1.jpg   3024    4032  license   957  1281  2187  2755\n",
       "3  license0_scaled2.jpg   3024    4032  license   813   459  2905  3564\n",
       "4          license1.jpg   3024    4032  license  1022  1246  1978  2764"
      ]
     },
     "execution_count": 8,
     "metadata": {},
     "output_type": "execute_result"
    }
   ],
   "source": [
    "full_labels.head()"
   ]
  },
  {
   "cell_type": "code",
   "execution_count": 9,
   "metadata": {},
   "outputs": [
    {
     "name": "stdout",
     "output_type": "stream",
     "text": [
      "<pandas.core.groupby.groupby.DataFrameGroupBy object at 0x000002D9B858C0F0>\n"
     ]
    }
   ],
   "source": [
    "grouped = full_labels.groupby('filename')\n",
    "print(grouped)"
   ]
  },
  {
   "cell_type": "code",
   "execution_count": 10,
   "metadata": {},
   "outputs": [
    {
     "data": {
      "text/plain": [
       "1    278\n",
       "dtype: int64"
      ]
     },
     "execution_count": 10,
     "metadata": {},
     "output_type": "execute_result"
    }
   ],
   "source": [
    "grouped.apply(lambda x: len(x)).value_counts()"
   ]
  },
  {
   "cell_type": "markdown",
   "metadata": {},
   "source": [
    "### split each file into a group in a list"
   ]
  },
  {
   "cell_type": "code",
   "execution_count": 11,
   "metadata": {},
   "outputs": [],
   "source": [
    "gb = full_labels.groupby('filename')"
   ]
  },
  {
   "cell_type": "code",
   "execution_count": 16,
   "metadata": {},
   "outputs": [],
   "source": [
    "grouped_list = [gb.get_group(x) for x in gb.groups]"
   ]
  },
  {
   "cell_type": "code",
   "execution_count": 17,
   "metadata": {},
   "outputs": [
    {
     "data": {
      "text/plain": [
       "278"
      ]
     },
     "execution_count": 17,
     "metadata": {},
     "output_type": "execute_result"
    }
   ],
   "source": [
    "len(grouped_list)"
   ]
  },
  {
   "cell_type": "code",
   "execution_count": 18,
   "metadata": {},
   "outputs": [],
   "source": [
    "train_index = np.random.choice(len(grouped_list), size=220, replace=False)\n",
    "test_index = np.setdiff1d(list(range(278)), train_index)"
   ]
  },
  {
   "cell_type": "code",
   "execution_count": 19,
   "metadata": {},
   "outputs": [
    {
     "name": "stdout",
     "output_type": "stream",
     "text": [
      "[ 47 163 223 196  55 253 237 172  85 209 229 151 173 231 220  20 200 107\n",
      "  22 214 145  99 118 146 203  90 120  17 153 249  75 228 187 247  41 242\n",
      " 219  45 188 157 119 108 156 124 136 210  29  49   0  66 132 148 192  65\n",
      " 269 256 126 264   9 201 240 234 216  51 186 244 159 277 268  40   8  92\n",
      " 180 252 129 232  34  67 221 111  33 113 116 273  79  62  24 261  31 262\n",
      "  60 178   5  59 134 272 135  74  15 218 175 155  76 167 195 162   3  68\n",
      " 222 160 266   4 275  77  25 258  19  48 182 133 233 117 147 152  78  56\n",
      "  57 265  86  42 179 190 165  10 230 170 267  16   7 246  50 177 102 225\n",
      " 183  97 128 211 251 110  32 276  87 100 142  96   6 213  11 260 243 235\n",
      "  58 149  26 181 248 189 101 217 104 193  63 166  18 168 199 121 274 141\n",
      " 130  28  72 239  80  46 254 257  93   2  81 207  35 206 202 115 158 144\n",
      " 250  36 105 139 106 236 109  88 185 169 137  53  95 122 194 227  23 164\n",
      "  13 198  61 176]\n"
     ]
    }
   ],
   "source": [
    "print(train_index)"
   ]
  },
  {
   "cell_type": "code",
   "execution_count": 20,
   "metadata": {},
   "outputs": [
    {
     "name": "stdout",
     "output_type": "stream",
     "text": [
      "[  1  12  14  21  27  30  37  38  39  43  44  52  54  64  69  70  71  73\n",
      "  82  83  84  89  91  94  98 103 112 114 123 125 127 131 138 140 143 150\n",
      " 154 161 171 174 184 191 197 204 205 208 212 215 224 226 238 241 245 255\n",
      " 259 263 270 271]\n"
     ]
    }
   ],
   "source": [
    "print(test_index)"
   ]
  },
  {
   "cell_type": "code",
   "execution_count": 21,
   "metadata": {},
   "outputs": [
    {
     "data": {
      "text/plain": [
       "(220, 58)"
      ]
     },
     "execution_count": 21,
     "metadata": {},
     "output_type": "execute_result"
    }
   ],
   "source": [
    "len(train_index), len(test_index)"
   ]
  },
  {
   "cell_type": "code",
   "execution_count": 22,
   "metadata": {},
   "outputs": [],
   "source": [
    "# take first 200 files\n",
    "train = pd.concat([grouped_list[i] for i in train_index])\n",
    "test = pd.concat([grouped_list[i] for i in test_index])"
   ]
  },
  {
   "cell_type": "code",
   "execution_count": 23,
   "metadata": {},
   "outputs": [
    {
     "data": {
      "text/plain": [
       "(220, 58)"
      ]
     },
     "execution_count": 23,
     "metadata": {},
     "output_type": "execute_result"
    }
   ],
   "source": [
    "len(train), len(test)"
   ]
  },
  {
   "cell_type": "code",
   "execution_count": 24,
   "metadata": {},
   "outputs": [],
   "source": [
    "train.to_csv('license_train_labels.csv', index=None)\n",
    "test.to_csv('license_test_labels.csv', index=None)"
   ]
  },
  {
   "cell_type": "code",
   "execution_count": null,
   "metadata": {},
   "outputs": [],
   "source": []
  }
 ],
 "metadata": {
  "kernelspec": {
   "display_name": "Python 3",
   "language": "python",
   "name": "python3"
  },
  "language_info": {
   "codemirror_mode": {
    "name": "ipython",
    "version": 3
   },
   "file_extension": ".py",
   "mimetype": "text/x-python",
   "name": "python",
   "nbconvert_exporter": "python",
   "pygments_lexer": "ipython3",
   "version": "3.6.5"
  },
  "widgets": {
   "state": {},
   "version": "1.1.2"
  }
 },
 "nbformat": 4,
 "nbformat_minor": 1
}
